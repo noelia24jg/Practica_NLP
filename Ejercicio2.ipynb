{
 "cells": [
  {
   "cell_type": "code",
   "execution_count": 24,
   "id": "21c99062",
   "metadata": {},
   "outputs": [],
   "source": [
    "from nltk.stem import PorterStemmer\n",
    "from stop_words import get_stop_words\n",
    "import json\n",
    "import pandas as pd\n",
    "import unicodedata\n",
    "import re\n",
    "import numpy as np"
   ]
  },
  {
   "cell_type": "code",
   "execution_count": 11,
   "id": "1a3e47d0",
   "metadata": {},
   "outputs": [],
   "source": [
    "# Creamos funciones para normalizar texto, eliminar stopwords y aplicar stemming a reseñas\n",
    "# Se usan para limpiar y transformar las frases antes de analizarlas\n",
    "\n",
    "def sentence_normalization(sentence):\n",
    "    sentence = unicodedata.normalize('NFKD', sentence).lower().encode('ascii', errors='ignore').decode('utf-8')\n",
    "    sentence = re.sub(' +', ' ', ' '.join([word if word.isalpha() else '' for word in sentence.split()])).strip()\n",
    "    return sentence\n",
    "\n",
    "\n",
    "def remove_stopwords(sentence, sw_list):\n",
    "    sentence = ' '.join([word for word in sentence.split() if word not in sw_list])\n",
    "    return sentence\n",
    "\n",
    "\n",
    "stemmer = PorterStemmer()\n",
    "def apply_stemming(sentence): \n",
    "    return ' '.join([stemmer.stem(word) for word in sentence.split()])\n",
    "\n",
    "sw_list = get_stop_words('en')\n",
    "\n",
    "def process_reviews(reviews, sw_list):\n",
    "    processed_sentences = []\n",
    "    for sent in reviews:\n",
    "        if not sent != sent:\n",
    "            sent = sentence_normalization(sent)\n",
    "            sent = remove_stopwords(sent, sw_list)\n",
    "            sent = apply_stemming(sent)\n",
    "            processed_sentences.append(sent)\n",
    "        else:\n",
    "            processed_sentences.append('None')\n",
    "    return processed_sentences"
   ]
  },
  {
   "cell_type": "code",
   "execution_count": 13,
   "id": "e6c8bea3",
   "metadata": {},
   "outputs": [],
   "source": [
    "data = {}\n",
    "with open('C:/Users/noeli/Desktop/Practica_NLP/Video_Games_5.json/Video_Games_5.json', \"r\", encoding=\"utf-8\") as f:\n",
    "    for idx, line in enumerate(f):\n",
    "        data[idx] = json.loads(line)"
   ]
  },
  {
   "cell_type": "code",
   "execution_count": 16,
   "id": "40ba017a",
   "metadata": {},
   "outputs": [],
   "source": [
    "# Extraemos texto y sentimiento de las reseñas del diccionario 'data' y creamos un DataFrame\n",
    "# Eliminamos filas con valores faltantes en 'review' o 'sentiment' y reiniciamos el índice\n",
    "\n",
    "reviews_text = []\n",
    "reviews_sentiment = []\n",
    "\n",
    "for review in data.values():\n",
    "    reviews_text.append(review.get('reviewText'))\n",
    "    reviews_sentiment.append(review.get('overall'))\n",
    "\n",
    "df_reviews = pd.DataFrame({\n",
    "    'review': reviews_text,\n",
    "    'sentiment': reviews_sentiment\n",
    "})\n",
    "df_reviews.dropna(subset=['review', 'sentiment'], inplace=True)\n",
    "df_reviews.reset_index(drop=True, inplace=True)"
   ]
  },
  {
   "cell_type": "code",
   "execution_count": 22,
   "id": "f221a593",
   "metadata": {},
   "outputs": [],
   "source": [
    "# Aplicamos el preprocesamiento a las reseñas: limpieza, eliminación de stopwords y stemming\n",
    "processed_reviews = process_reviews(df_reviews['review'], sw_list)"
   ]
  },
  {
   "cell_type": "code",
   "execution_count": 25,
   "id": "a1b7e5b0",
   "metadata": {},
   "outputs": [],
   "source": [
    "# Creamos una nueva columna con las reseñas procesadas\n",
    "# Reemplazamos las cadenas vacías por NaN y eliminamos las filas que quedaron vacías tras el preprocesamiento\n",
    "\n",
    "df_reviews['processedReview'] = processed_reviews\n",
    "df_reviews['processedReview'] = processed_reviews \n",
    "df_reviews['processedReview'] = df_reviews['processedReview'].replace('', np.nan) \n",
    "df_reviews = df_reviews.dropna(subset=['processedReview']) "
   ]
  }
 ],
 "metadata": {
  "kernelspec": {
   "display_name": "Python 3",
   "language": "python",
   "name": "python3"
  },
  "language_info": {
   "codemirror_mode": {
    "name": "ipython",
    "version": 3
   },
   "file_extension": ".py",
   "mimetype": "text/x-python",
   "name": "python",
   "nbconvert_exporter": "python",
   "pygments_lexer": "ipython3",
   "version": "3.11.9"
  }
 },
 "nbformat": 4,
 "nbformat_minor": 5
}
